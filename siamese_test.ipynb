{
 "cells": [
  {
   "cell_type": "code",
   "execution_count": 1,
   "metadata": {},
   "outputs": [],
   "source": [
    "import torch\n",
    "import numpy as np\n",
    "from torch.utils.data import random_split\n",
    "from dataset import CWRUDataset\n",
    "from models import SiameseNet\n",
    "from configs import window_size"
   ]
  },
  {
   "cell_type": "code",
   "execution_count": 2,
   "metadata": {},
   "outputs": [
    {
     "name": "stdout",
     "output_type": "stream",
     "text": [
      "loading dataset..\n",
      "datasets from 29 file(s) loaded.\n"
     ]
    }
   ],
   "source": [
    "exp_list = ['12DriveEndFault']\n",
    "rpm_list = ['1772', '1750', '1730']\n",
    "\n",
    "dataset = CWRUDataset(exp_list, rpm_list, window_size)\n",
    "\n",
    "model = SiameseNet()\n",
    "if torch.cuda.is_available():\n",
    "    model = model.to('cuda')\n",
    "else:\n",
    "    model = model.to('cpu')"
   ]
  },
  {
   "cell_type": "code",
   "execution_count": 3,
   "metadata": {},
   "outputs": [],
   "source": [
    "train_size = int(0.6 * len(dataset))\n",
    "val_size = int(0.2 * len(dataset))\n",
    "test_size = len(dataset) - train_size - val_size\n",
    "\n",
    "train_dataset, val_dataset, test_dataset = torch.utils.data.random_split(dataset, [train_size, val_size, test_size])"
   ]
  },
  {
   "cell_type": "code",
   "execution_count": 4,
   "metadata": {},
   "outputs": [],
   "source": [
    "from train import siamese_trainer\n",
    "from configs import batch_size, learning_rate, n_iter\n",
    "device = torch.device('cuda' if torch.cuda.is_available() else 'cpu')\n",
    "\n",
    "batch_size = 64"
   ]
  },
  {
   "cell_type": "code",
   "execution_count": 5,
   "metadata": {},
   "outputs": [],
   "source": [
    "trainer = siamese_trainer(model, train_dataset, val_dataset, test_dataset, batch_size, learning_rate, n_iter, device)"
   ]
  },
  {
   "cell_type": "code",
   "execution_count": 6,
   "metadata": {},
   "outputs": [
    {
     "name": "stdout",
     "output_type": "stream",
     "text": [
      "79 460 0.17173913043478262\n",
      "Epoch [1/1500], Training Loss: 0.6934, Validation Loss: 0.7061, Accuracy: 17.17%\n",
      "Validation loss decreased from inf to 0.7061. Saving model...\n",
      "377 460 0.8195652173913044\n",
      "Epoch [11/1500], Training Loss: 0.6044, Validation Loss: 0.5114, Accuracy: 81.96%\n",
      "365 460 0.7934782608695652\n",
      "Epoch [21/1500], Training Loss: 0.4044, Validation Loss: 0.3837, Accuracy: 79.35%\n",
      "Validation loss decreased from 0.3971 to 0.3837. Saving model...\n",
      "376 460 0.8173913043478261\n",
      "Epoch [31/1500], Training Loss: 0.3466, Validation Loss: 0.3786, Accuracy: 81.74%\n",
      "406 460 0.8826086956521739\n",
      "Epoch [41/1500], Training Loss: 0.3142, Validation Loss: 0.2177, Accuracy: 88.26%\n",
      "Validation loss decreased from 0.2302 to 0.2177. Saving model...\n",
      "406 460 0.8826086956521739\n",
      "Epoch [51/1500], Training Loss: 0.2642, Validation Loss: 0.2625, Accuracy: 88.26%\n",
      "428 460 0.9304347826086956\n",
      "Epoch [61/1500], Training Loss: 0.2373, Validation Loss: 0.1561, Accuracy: 93.04%\n",
      "Validation loss decreased from 0.1950 to 0.1561. Saving model...\n",
      "412 460 0.8956521739130435\n",
      "Epoch [71/1500], Training Loss: 0.1694, Validation Loss: 0.2306, Accuracy: 89.57%\n",
      "434 460 0.9434782608695652\n",
      "Epoch [81/1500], Training Loss: 0.2007, Validation Loss: 0.1550, Accuracy: 94.35%\n",
      "Validation loss decreased from 0.1561 to 0.1550. Saving model...\n",
      "428 460 0.9304347826086956\n",
      "Epoch [91/1500], Training Loss: 0.1658, Validation Loss: 0.1357, Accuracy: 93.04%\n",
      "Validation loss decreased from 0.1361 to 0.1357. Saving model...\n",
      "424 460 0.9217391304347826\n",
      "Epoch [101/1500], Training Loss: 0.1633, Validation Loss: 0.1619, Accuracy: 92.17%\n"
     ]
    },
    {
     "ename": "KeyboardInterrupt",
     "evalue": "",
     "output_type": "error",
     "traceback": [
      "\u001b[1;31m---------------------------------------------------------------------------\u001b[0m",
      "\u001b[1;31mKeyboardInterrupt\u001b[0m                         Traceback (most recent call last)",
      "Cell \u001b[1;32mIn[6], line 1\u001b[0m\n\u001b[1;32m----> 1\u001b[0m trainer\u001b[39m.\u001b[39;49mtrain()\n",
      "File \u001b[1;32mc:\\Users\\glori\\GitHub\\Bearing-Fault-Diagnosis-with-Few-Shot-Learning-PyTorch\\train.py:44\u001b[0m, in \u001b[0;36msiamese_trainer.train\u001b[1;34m(self)\u001b[0m\n\u001b[0;32m     42\u001b[0m total \u001b[39m=\u001b[39m \u001b[39m0\u001b[39m\n\u001b[0;32m     43\u001b[0m \u001b[39mwith\u001b[39;00m torch\u001b[39m.\u001b[39mno_grad():\n\u001b[1;32m---> 44\u001b[0m     \u001b[39mfor\u001b[39;00m (x1, x2), y \u001b[39min\u001b[39;00m \u001b[39mself\u001b[39m\u001b[39m.\u001b[39mval_loader:\n\u001b[0;32m     45\u001b[0m         x1, x2, y \u001b[39m=\u001b[39m x1\u001b[39m.\u001b[39mto(\u001b[39mself\u001b[39m\u001b[39m.\u001b[39mdevice), x2\u001b[39m.\u001b[39mto(\u001b[39mself\u001b[39m\u001b[39m.\u001b[39mdevice), y\u001b[39m.\u001b[39mto(\u001b[39mself\u001b[39m\u001b[39m.\u001b[39mdevice)\n\u001b[0;32m     46\u001b[0m         output \u001b[39m=\u001b[39m \u001b[39mself\u001b[39m\u001b[39m.\u001b[39mmodel(x1, x2)\n",
      "File \u001b[1;32mc:\\Users\\glori\\miniconda3\\lib\\site-packages\\torch\\utils\\data\\dataloader.py:628\u001b[0m, in \u001b[0;36m_BaseDataLoaderIter.__next__\u001b[1;34m(self)\u001b[0m\n\u001b[0;32m    625\u001b[0m \u001b[39mif\u001b[39;00m \u001b[39mself\u001b[39m\u001b[39m.\u001b[39m_sampler_iter \u001b[39mis\u001b[39;00m \u001b[39mNone\u001b[39;00m:\n\u001b[0;32m    626\u001b[0m     \u001b[39m# TODO(https://github.com/pytorch/pytorch/issues/76750)\u001b[39;00m\n\u001b[0;32m    627\u001b[0m     \u001b[39mself\u001b[39m\u001b[39m.\u001b[39m_reset()  \u001b[39m# type: ignore[call-arg]\u001b[39;00m\n\u001b[1;32m--> 628\u001b[0m data \u001b[39m=\u001b[39m \u001b[39mself\u001b[39;49m\u001b[39m.\u001b[39;49m_next_data()\n\u001b[0;32m    629\u001b[0m \u001b[39mself\u001b[39m\u001b[39m.\u001b[39m_num_yielded \u001b[39m+\u001b[39m\u001b[39m=\u001b[39m \u001b[39m1\u001b[39m\n\u001b[0;32m    630\u001b[0m \u001b[39mif\u001b[39;00m \u001b[39mself\u001b[39m\u001b[39m.\u001b[39m_dataset_kind \u001b[39m==\u001b[39m _DatasetKind\u001b[39m.\u001b[39mIterable \u001b[39mand\u001b[39;00m \\\n\u001b[0;32m    631\u001b[0m         \u001b[39mself\u001b[39m\u001b[39m.\u001b[39m_IterableDataset_len_called \u001b[39mis\u001b[39;00m \u001b[39mnot\u001b[39;00m \u001b[39mNone\u001b[39;00m \u001b[39mand\u001b[39;00m \\\n\u001b[0;32m    632\u001b[0m         \u001b[39mself\u001b[39m\u001b[39m.\u001b[39m_num_yielded \u001b[39m>\u001b[39m \u001b[39mself\u001b[39m\u001b[39m.\u001b[39m_IterableDataset_len_called:\n",
      "File \u001b[1;32mc:\\Users\\glori\\miniconda3\\lib\\site-packages\\torch\\utils\\data\\dataloader.py:671\u001b[0m, in \u001b[0;36m_SingleProcessDataLoaderIter._next_data\u001b[1;34m(self)\u001b[0m\n\u001b[0;32m    669\u001b[0m \u001b[39mdef\u001b[39;00m \u001b[39m_next_data\u001b[39m(\u001b[39mself\u001b[39m):\n\u001b[0;32m    670\u001b[0m     index \u001b[39m=\u001b[39m \u001b[39mself\u001b[39m\u001b[39m.\u001b[39m_next_index()  \u001b[39m# may raise StopIteration\u001b[39;00m\n\u001b[1;32m--> 671\u001b[0m     data \u001b[39m=\u001b[39m \u001b[39mself\u001b[39;49m\u001b[39m.\u001b[39;49m_dataset_fetcher\u001b[39m.\u001b[39;49mfetch(index)  \u001b[39m# may raise StopIteration\u001b[39;00m\n\u001b[0;32m    672\u001b[0m     \u001b[39mif\u001b[39;00m \u001b[39mself\u001b[39m\u001b[39m.\u001b[39m_pin_memory:\n\u001b[0;32m    673\u001b[0m         data \u001b[39m=\u001b[39m _utils\u001b[39m.\u001b[39mpin_memory\u001b[39m.\u001b[39mpin_memory(data, \u001b[39mself\u001b[39m\u001b[39m.\u001b[39m_pin_memory_device)\n",
      "File \u001b[1;32mc:\\Users\\glori\\miniconda3\\lib\\site-packages\\torch\\utils\\data\\_utils\\fetch.py:61\u001b[0m, in \u001b[0;36m_MapDatasetFetcher.fetch\u001b[1;34m(self, possibly_batched_index)\u001b[0m\n\u001b[0;32m     59\u001b[0m \u001b[39melse\u001b[39;00m:\n\u001b[0;32m     60\u001b[0m     data \u001b[39m=\u001b[39m \u001b[39mself\u001b[39m\u001b[39m.\u001b[39mdataset[possibly_batched_index]\n\u001b[1;32m---> 61\u001b[0m \u001b[39mreturn\u001b[39;00m \u001b[39mself\u001b[39;49m\u001b[39m.\u001b[39;49mcollate_fn(data)\n",
      "File \u001b[1;32mc:\\Users\\glori\\GitHub\\Bearing-Fault-Diagnosis-with-Few-Shot-Learning-PyTorch\\dataset.py:205\u001b[0m, in \u001b[0;36mcustom_collate_fn_2\u001b[1;34m(batch)\u001b[0m\n\u001b[0;32m    202\u001b[0m         target \u001b[39m=\u001b[39m \u001b[39m1\u001b[39m\n\u001b[0;32m    204\u001b[0m     pairs[i][\u001b[39m0\u001b[39m] \u001b[39m=\u001b[39m torch\u001b[39m.\u001b[39mtensor(data1, dtype\u001b[39m=\u001b[39mtorch\u001b[39m.\u001b[39mfloat32)\n\u001b[1;32m--> 205\u001b[0m     pairs[i][\u001b[39m1\u001b[39m] \u001b[39m=\u001b[39m torch\u001b[39m.\u001b[39mtensor(data2, dtype\u001b[39m=\u001b[39mtorch\u001b[39m.\u001b[39mfloat32)\n\u001b[0;32m    206\u001b[0m     targets[i] \u001b[39m=\u001b[39m target\n\u001b[0;32m    208\u001b[0m x1, x2 \u001b[39m=\u001b[39m torch\u001b[39m.\u001b[39msplit(pairs, split_size_or_sections\u001b[39m=\u001b[39m\u001b[39m1\u001b[39m, dim\u001b[39m=\u001b[39m\u001b[39m3\u001b[39m)\n",
      "\u001b[1;31mKeyboardInterrupt\u001b[0m: "
     ]
    }
   ],
   "source": [
    "trainer.train()"
   ]
  },
  {
   "cell_type": "code",
   "execution_count": null,
   "metadata": {},
   "outputs": [],
   "source": []
  }
 ],
 "metadata": {
  "kernelspec": {
   "display_name": "base",
   "language": "python",
   "name": "python3"
  },
  "language_info": {
   "codemirror_mode": {
    "name": "ipython",
    "version": 3
   },
   "file_extension": ".py",
   "mimetype": "text/x-python",
   "name": "python",
   "nbconvert_exporter": "python",
   "pygments_lexer": "ipython3",
   "version": "3.9.12"
  },
  "orig_nbformat": 4,
  "vscode": {
   "interpreter": {
    "hash": "f1b88a2ab8ffc76ca6c3b3024dd67d30145f84351315ca22677786462d73cfd5"
   }
  }
 },
 "nbformat": 4,
 "nbformat_minor": 2
}
